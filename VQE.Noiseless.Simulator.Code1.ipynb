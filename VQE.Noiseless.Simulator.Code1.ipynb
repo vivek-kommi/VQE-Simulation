{
 "cells": [
  {
   "cell_type": "code",
   "execution_count": 1,
   "metadata": {},
   "outputs": [],
   "source": [
    "%matplotlib inline\n",
    "import numpy as np\n",
    "from scipy.optimize import minimize\n",
    "from qiskit import *"
   ]
  },
  {
   "cell_type": "markdown",
   "metadata": {},
   "source": [
    "<h1 align=\"center\">\n",
    "Quantum simulation of a many-body system\n",
    "</h1>\n",
    "\n",
    "**The problem:** Simulating quantum systems with several interacting bodies on a classical computer is very difficult.\n",
    "\n",
    "<img src=\"manybody.png\" alt=\"drawing\" width=\"500\"/>\n",
    "\n",
    "**The solution:** One of the important things to know about this system is its ground energy. For such very large systems, this task becomes more difficult for a conventional computer, and here where the quantum computer is advantageous.\n",
    "\n",
    "Quantum computer uses the variational quantum eigensolver (VQE); a hybrid classical-quantum algorithm that variationally determines the ground state energy of a Hamiltonian using the variational principle:\n",
    "$\\langle \\psi | H | \\psi \\rangle \\geq E_i \\rightarrow$ the expectation value of a Hamiltonian will always be greater than or equal to the energy of the ground state of this system.\n",
    "\n",
    "&#10170; **For the sake of simplicity, let us focus on a system of two spins, and study the interaction between them:**\n",
    "\n",
    "<img src=\"twobody.png\" alt=\"drawing\" width=\"300\"/>\n",
    "\n"
   ]
  },
  {
   "cell_type": "markdown",
   "metadata": {},
   "source": [
    "Let us find out the matrix representation of the two $spin\\;1/2$ particles Hamiltonian that describe their interaction, an example of this system is the hydrogen atom, which has a $spin\\;1/2 $proton in the nucleus and a $spin\\;1/2$ electron located around.\n",
    "\n",
    "Along the z-axis this system forms basis states which contains 4 states:\n",
    "\n",
    "$$\n",
    "|\\uparrow \\uparrow\\rangle=|\\uparrow\\rangle_{1}|\\uparrow\\rangle_{2},\\quad |\\uparrow \\downarrow\\rangle=|\\uparrow\\rangle_{1}|\\downarrow\\rangle_{2},\\quad |\\downarrow \\uparrow\\rangle=|\\downarrow\\rangle_{1}|\\uparrow\\rangle_{2},\\quad |\\downarrow \\downarrow\\rangle=|\\downarrow\\rangle_{1}|\\downarrow\\rangle_{2}\n",
    "$$\n",
    "\n",
    "Where: $\\quad |\\quad\\rangle_1$ : state for the particle 1 and $\\quad |\\quad\\rangle_2$: state for the particle 2.\n",
    "\n",
    "Some requirements:\n",
    "\n",
    "$$\n",
    "\\begin{array}{l}\n",
    "\\checkmark \\quad \\hat{\\vec{S}}=\\hat{\\vec{S}}_{x}+\\hat{\\vec{S}}_{y}+\\hat{\\vec{S}}_{z} \\\\\n",
    "\\checkmark \\quad S_{+}=S_{x}+i S_{y}, \\quad S_{-}=S_{x}-i S_{y} \\\\\n",
    "\\checkmark \\quad S_{z}|\\uparrow\\rangle=+ \\frac{\\hbar}{2}|\\uparrow\\rangle,\\;\\; S_{z}|\\downarrow\\rangle=- \\frac{\\hbar}{2}|\\downarrow\\rangle ,\\;\\; S_{+}|\\downarrow\\rangle=\\hbar|\\uparrow\\rangle, \\;\\; S_{-}|\\uparrow\\rangle=\\hbar|\\downarrow\\rangle, \\;\\; S_{+}|\\uparrow\\rangle=0, \\;\\; S_{-}|\\downarrow\\rangle=0\n",
    "\\end{array}\n",
    "$$\n",
    "\n",
    "We define the Hamiltonian that describes this interaction as:\n",
    "\n",
    "$$\n",
    "\\widehat{H}=\\frac{2 A}{\\hbar^{2}} \\hat{\\vec{S}}_{1} \\cdot \\hat{\\vec{S}}_{2}\n",
    "$$\n",
    "\n",
    "Where he is proportional to the spin operator for the particles 1 and 2 $(\\hat{\\vec{S}}_{1} \\text { and } \\hat{\\vec{S}}_{2} \\; \\text{respectively})$.\n",
    "The $\\frac{2 A}{\\hbar^{2}}$ is a normalization factor, where $A$ is the measure of the strength of this interaction and has unit\n",
    "energy.\n",
    "\n",
    "Now let us go ahead and find the matrix representation relying on the requirements above:\n",
    "\n",
    "$$\n",
    "\\widehat{H}=\\frac{2 A}{\\hbar^{2}} \\hat{\\vec{S}}_{1} \\hat{\\vec{S}}_{2}=\\frac{2 A}{\\hbar^{2}}\\left(\\hat{\\vec{S}}_{1 x} \\hat{\\vec{S}}_{2 x}+\\hat{\\vec{S}}_{1 y} \\hat{\\vec{S}}_{2 y}+\\hat{\\vec{S}}_{12} \\hat{\\vec{S}}_{2 z}\\right)=\\frac{A}{\\hbar^{2}}\\left(\\hat{\\vec{S}}_{1+} \\hat{\\vec{S}}_{2-}+\\hat{\\vec{S}}_{1-} \\hat{\\vec{S}}_{2+}+2 \\hat{\\vec{S}}_{12} \\hat{\\vec{S}}_{2 z}\\right)\n",
    "$$\n",
    "\n",
    "What are the components of this Hamiltonian matrix? To know that, we need to compute all the combinations of the system basis states $\\{|\\uparrow \\uparrow\\rangle, |\\uparrow \\downarrow\\rangle, |\\downarrow \\uparrow\\rangle, |\\downarrow \\downarrow\\rangle\\}$ of the following expression:\n",
    "\n",
    "$$\\langle\\quad| \\widehat{H} |\\quad\\rangle$$\n",
    "\n",
    "By Using the requirements we can conclude the elements of this matrix; we end up with:\n",
    "\n",
    "$$\\widehat{H}=A\\left(\\begin{array}{cccc}\n",
    "\\frac{1}{2} & 0 & 0 & 0 \\\\\n",
    "0 & -\\frac{1}{2} & 1 & 0 \\\\\n",
    "0 & 1 & -\\frac{1}{2} & 0 \\\\\n",
    "0 & 0 & 0 & \\frac{1}{2}\n",
    "\\end{array}\\right)$$\n",
    "\n",
    "Looking at the matrix we can deduce easily two eigenvalues: $\\frac{A}{2}$ and $\\frac{A}{2}$.And the two other come from the middle $2\\times2$ submatrix: $\\frac{A}{2}$ and $-\\frac{3 A}{2}$\n",
    "\n",
    "The states of the eigenvalue $\\frac{A}{2}$ form a spin 1 system, the state of the ground state energy $-\\frac{3 A}{2},$ form a spin 0 system. The following figure makes it easy to understand:\n",
    "\n",
    "<img src=\"spin_alignement.png\" alt=\"drawing\" width=\"500\"/>\n",
    "\n",
    "[Image source](https://chemistry.stackexchange.com/a/54259/85866)"
   ]
  },
  {
   "cell_type": "markdown",
   "metadata": {},
   "source": [
    "* And know let's use VQE to find the groud state of the Hamiltonian:$H=\\begin{pmatrix}\n",
    "\\frac{1}{2} & 0 &0  & 0 \\\\\n",
    "0 & -\\frac{1}{2} & 1 & 0 \\\\\n",
    "0 & 1 & -\\frac{1}{2} & 0 \\\\\n",
    "0 & 0 & 0 & \\frac{1}{2}\n",
    "\\end{pmatrix}.$\n",
    "\n",
    "I'm ignoring the constante $A$ from the matrix to simplify the work, I will multiply the eigenvalue by it later.\n",
    "\n",
    "## #VQE ON A **IDEAL** SIMULATOR\n",
    "[See it also in the noisy case](https://github.com/walid-mk/VQE/blob/master/Task4/VQE.Noisy.Simulator.Code2.ipynb).\n",
    "\n",
    "* Let first have the eigenvalues of $H$ and find the lowest one which corresponds to the lowest energy. We will use for this some ``` Numpy ``` tools:"
   ]
  },
  {
   "cell_type": "code",
   "execution_count": 2,
   "metadata": {},
   "outputs": [
    {
     "name": "stdout",
     "output_type": "stream",
     "text": [
      "The eigenvalues of H : [ 0.5 -1.5  0.5  0.5]\n",
      "The exact ground state energy is:  -1.5\n"
     ]
    }
   ],
   "source": [
    "H = np.mat(\"0.5 0 0 0; 0 -0.5 1 0; 0 1 -0.5 0; 0 0 0 0.5\") #The Hamiltonian matrix\n",
    "print(\"The eigenvalues of H :\", np.linalg.eigvals(H))\n",
    "print('The exact ground state energy is: ', np.linalg.eigvals(H)[1])"
   ]
  },
  {
   "cell_type": "markdown",
   "metadata": {},
   "source": [
    "* As we can see the lowest eigenvalue is $-\\frac{3}{2}$.\n",
    "\n",
    "## Variational Quantum Eingensolver (VQE):"
   ]
  },
  {
   "cell_type": "markdown",
   "metadata": {},
   "source": [
    "### - Now let us find this value using VQE and see the accuracy of its result\n",
    "\n",
    "* We need to be able to express the Hamiltonian matrix in a quantum circuit, so that the expectations values can be measured using the quantum computer.\n",
    "\n",
    "* To do that we need to decompose $H$ into the sum of tensor products of Pauli operators, multiplied by some constant coefficients: $H = a \\cdot II + b \\cdot XX + c \\cdot ZZ + d \\cdot YY.$\n",
    "\n",
    "    This equation leads to $4$ equations with $4$ variables, which can be written as $Ax=C$ :\n",
    "$$\n",
    "\\begin{pmatrix}\n",
    "1 & 0 & 1  & 0 \\\\\n",
    "0 & 1 & 0 & -1 \\\\\n",
    "1 & 0 & -1 & 0 \\\\\n",
    "0 & 1 & 0 & 1\n",
    "\\end{pmatrix}.\n",
    "\\begin{pmatrix}\n",
    "a \\\\\n",
    "b \\\\\n",
    "c \\\\\n",
    "d\n",
    "\\end{pmatrix} = \n",
    "\\begin{pmatrix}\n",
    "1/2 \\\\\n",
    "0 \\\\\n",
    "-1/2 \\\\\n",
    "1\n",
    "\\end{pmatrix}\n",
    "$$\n",
    "\n",
    "    We can use ```Numpy``` for this task to compute the coefficients $a$, $b$, $c$, and $d$ :"
   ]
  },
  {
   "cell_type": "code",
   "execution_count": 3,
   "metadata": {},
   "outputs": [
    {
     "name": "stdout",
     "output_type": "stream",
     "text": [
      "a: 0.0 \n",
      "b: 0.5 \n",
      "c: 0.5 \n",
      "d: 0.5\n"
     ]
    }
   ],
   "source": [
    "A = np.array([[1,0,1,0],[0,1,0,-1],[1,0,-1,0],[0,1,0,1]])\n",
    "C = np.array([1/2,0,-1/2,1])\n",
    "S = np.linalg.solve(A,C) # x = A^-1 * C\n",
    "a, b, c, d = S[0], S[1], S[2], S[3]\n",
    "print(\"a:\", a,\"\\nb:\", b, \"\\nc:\", c, \"\\nd:\", d)"
   ]
  },
  {
   "cell_type": "markdown",
   "metadata": {},
   "source": [
    "#### Therefore  $H = 0 \\cdot II + 0.5 \\cdot XX + 0.5 \\cdot ZZ + 0.5 \\cdot YY.$\n",
    "\n",
    "And this is another way to compute those coefficients:\n",
    "* Since the Pauli matrices form an orthogonal basis in the Hilbert space, and our $4\\times4$ hermitian matrix is described in the same space, then: \n",
    "$$H = \\sum_{i,j=1,x,y,z} a_{i,j} \\left( \\sigma_i \\otimes \\sigma_j \\right),\n",
    "$$\n",
    "Therefore the coefficients are\n",
    "$$\n",
    "a_{i,j} = \\frac{1}{4} Tr\\left[\\left( \\sigma_i \\otimes \\sigma_j \\right) H \\right]\n",
    "$$\n",
    "the factor $\\frac{1}{4}$ is due to normalization, [see the code for this method](https://michaelgoerz.net/notes/decomposing-two-qubit-hamiltonians-into-pauli-matrices.html). And for more detail [see this](https://quantumcomputing.stackexchange.com/questions/8725/can-arbitrary-matrices-be-decomposed-using-the-pauli-basis/8726#8726).\n",
    "\n",
    "I'm going to convert $H$ to a dictionary for a purposeful reason:"
   ]
  },
  {
   "cell_type": "code",
   "execution_count": 4,
   "metadata": {},
   "outputs": [
    {
     "name": "stdout",
     "output_type": "stream",
     "text": [
      "{'II': 0.0, 'XX': 0.5, 'ZZ': 0.5, 'YY': 0.5}\n"
     ]
    }
   ],
   "source": [
    "H ={'II':a, 'XX':b, 'ZZ':c,'YY':d}\n",
    "print(H)"
   ]
  },
  {
   "cell_type": "markdown",
   "metadata": {},
   "source": [
    "### - The Ansatz:\n",
    "\n",
    "* The variational method consists of calculating the expectation value of $H$, over multiple trial wavefunctions to get the right one which corresponds to the minimum energy $min_\\theta\\left\\langle \\psi \\right| H \\left| \\psi \\right\\rangle = lowest\\; energy$.\n",
    "\n",
    "* So we initialize our circuit with a best guess, or ansatz: $$(I \\otimes X).(C_{NOT}).(R_z(\\theta) \\otimes I).(H \\otimes I) \\left| 0 \\right\\rangle \\otimes \\left| 0 \\right\\rangle$$"
   ]
  },
  {
   "cell_type": "code",
   "execution_count": 5,
   "metadata": {},
   "outputs": [],
   "source": [
    "# The ansatz initialization\n",
    "def ansatz_init(circuit, parameter):\n",
    "    q = circuit.qregs[0]\n",
    "    circuit.h(q[0])\n",
    "    circuit.rz(parameter, q[0])\n",
    "    circuit.cx(q[0], q[1])\n",
    "    circuit.x(q[1])\n",
    "    return circuit"
   ]
  },
  {
   "cell_type": "markdown",
   "metadata": {},
   "source": [
    "### - Transfer to the $Z\\; basis$:\n",
    "* Now to calculate the expectation value, we need to be very careful about the basis.\n",
    "* The only physical measurement that a quantum computer can do, is in the Z basis {${\\left| 0 \\right\\rangle; \\left| 1 \\right\\rangle}$}. And as we can see, the Hamiltonian is decomposed into a linear combination of Pauli's matrices, as these form a basis for hermitian matrices. Hence, we have three kinds of measurement basis:\n",
    "$$Z basis: {\\left| 0 \\right\\rangle; \\left| 1 \\right\\rangle},\\qquad X basis: {\\left| + \\right\\rangle; \\left| - \\right\\rangle},\\qquad Y basis: {\\left| +i \\right\\rangle; \\left| -i \\right\\rangle}.$$\n",
    "Thus, we need to express the last two basis in the $Z\\;basis$ :\n",
    "\n",
    " * $X\\;basis$ in term of $Z\\;basis$; we get the matrix: $H^{'} = \\frac{1}{\\sqrt{2}}\\begin{pmatrix}\n",
    "1 & 1\\\\\n",
    "1 & -1\n",
    "\\end{pmatrix}$.\n",
    "\n",
    " * $Y\\;basis$ in term of $Z\\;basis$; we get the matrix: $Y^{'} = \\frac{1}{\\sqrt{2}}\\begin{pmatrix}\n",
    "1 & 1\\\\\n",
    "i & -i\n",
    "\\end{pmatrix}$.\n",
    "\n",
    "<b> Those two matrices transfer from {${\\left| 0 \\right\\rangle; \\left| 1 \\right\\rangle}$} to {${\\left| + \\right\\rangle; \\left| - \\right\\rangle}$} and {${\\left| +i \\right\\rangle; \\left| -i \\right\\rangle}$} respectevly.\n",
    "    \n",
    "* Every quantum state $\\left| \\psi \\right\\rangle$ can be expressed in different sets of basis, so if we want it to be written in the {$\\left| 0 \\right\\rangle; \\left| 1 \\right\\rangle$} basis, to get the count of the measurement to calculate the expectations values, we process as follow:\n",
    "\n",
    " * We apply the inverse of $H^{'}$ to go from the {${\\left| + \\right\\rangle; \\left| - \\right\\rangle}$} basis to the {${\\left| 0 \\right\\rangle; \\left| 1 \\right\\rangle}$} basis; consequently, we get the matrix: $H_{gate} = \\frac{1}{\\sqrt{2}}\\begin{pmatrix}\n",
    "1 & 1\\\\\n",
    "1 & -1\n",
    "\\end{pmatrix}$. (It is the Hadamard gate)\n",
    " * We apply the inverse of $Y^{'}$ to go from the {${\\left| +i \\right\\rangle; \\left| -i \\right\\rangle}$} basis to the {${\\left| 0 \\right\\rangle; \\left| 1 \\right\\rangle}$} basis; then, we get the matrix: $Y_{gate} = \\frac{1}{\\sqrt{2}}\\begin{pmatrix}\n",
    "1 & -i\\\\\n",
    "1 & i\n",
    "\\end{pmatrix}$."
   ]
  },
  {
   "cell_type": "code",
   "execution_count": 6,
   "metadata": {},
   "outputs": [],
   "source": [
    "# transfer to the Z basis measurement circuit\n",
    "def z_measure_circ(parameter, measure):\n",
    "    q = QuantumRegister(2)\n",
    "    c = ClassicalRegister(2)\n",
    "    circuit = QuantumCircuit(q, c)\n",
    "\n",
    "    # implement the ansatz in the circuit\n",
    "    circuit = ansatz_init(circuit, parameter)\n",
    "\n",
    "    # measurement\n",
    "    if measure == 'XX':\n",
    "        circuit.barrier(q[0],q[1])\n",
    "        circuit.u(np.pi/2, 0, np.pi, q[0])\n",
    "        circuit.u(np.pi/2, 0, np.pi, q[1])\n",
    "        circuit.measure(q[0], c[0])\n",
    "        circuit.measure(q[1], c[1])\n",
    "    elif measure == 'ZZ':\n",
    "        circuit.measure(q[0], c[0])\n",
    "        circuit.measure(q[1], c[1])\n",
    "    elif measure == 'YY':\n",
    "        circuit.barrier(q[0],q[1])\n",
    "        circuit.u(np.pi/2, 0, np.pi/2, q[0])\n",
    "        circuit.u(np.pi/2,0, np.pi/2, q[1])\n",
    "        circuit.measure(q[0], c[0])\n",
    "        circuit.measure(q[1], c[1])\n",
    "    else:\n",
    "         raise ValueError('Input should be \"XX\" or \"YY\" or \"ZZ\"')\n",
    "\n",
    "    return circuit"
   ]
  },
  {
   "cell_type": "markdown",
   "metadata": {},
   "source": [
    "* The counts result is returned in qiskit, in a form of a dictionary, so I will define a function ```get_from``` that returns the values in the dictionary. Also, it will be useful for the Hamiltonian dictionary created above."
   ]
  },
  {
   "cell_type": "code",
   "execution_count": 7,
   "metadata": {},
   "outputs": [],
   "source": [
    "# If key is missing than return 0 otherwise the corresponding value.\n",
    "def get_from(d: dict, key: str):\n",
    "\n",
    "    value = 0\n",
    "    if key in d:\n",
    "        value = d[key]\n",
    "    return value"
   ]
  },
  {
   "cell_type": "markdown",
   "metadata": {},
   "source": [
    "### - The expectation value:\n",
    "\n",
    "* The expectation value in the case of two qubits, is calculated considering the computational basis (Z-Axis) as follow: eigenvalues of the Pauli's $Z$ matrix times the corresponding probabilities\n",
    "$$\\frac{1}{N}.(N_{00}\\left\\langle 00 \\right| Z \\otimes Z \\left| 00 \\right\\rangle + N_{11}\\left\\langle 11 \\right| Z \\otimes Z \\left| 11 \\right\\rangle + N_{10}\\left\\langle 10 \\right| Z \\otimes Z \\left| 10 \\right\\rangle + N_{01}\\left\\langle 01 \\right| Z \\otimes Z \\left| 01 \\right\\rangle)$$\n",
    "In which: \n",
    "$$\\left\\langle 00 \\right| Z \\otimes Z \\left| 00 \\right\\rangle = \\left\\langle 11 \\right| Z \\otimes Z \\left| 11 \\right\\rangle = 1$$\n",
    "and \n",
    "$$\\left\\langle 10 \\right| Z \\otimes Z \\left| 10 \\right\\rangle = \\left\\langle 01 \\right| Z \\otimes Z \\left| 01 \\right\\rangle = -1$$\n",
    "therefore the expectation value become:\n",
    "$$\\frac{1}{N}.((N_{00} + N_{11}) - (N_{10} + N_{01}))$$\n",
    "where $N$ is the number of shots, and $N_{00}$, $N_{11}$, $N_{10}$, $N_{01}$ are the number of time the state $\\left| 00 \\right\\rangle$, $\\left| 11 \\right\\rangle$, $\\left| 10 \\right\\rangle$, $\\left| 01 \\right\\rangle$ are measured respectively."
   ]
  },
  {
   "cell_type": "code",
   "execution_count": 8,
   "metadata": {},
   "outputs": [],
   "source": [
    "#calculate the expectation value for each Pauli's gate\n",
    "def expec_value(parameter, measure):\n",
    "    # measure in the right basis, then use the counts to compute the expectation value.\n",
    "    if measure == 'II':\n",
    "        return 1\n",
    "    if measure == 'XX':\n",
    "        circuit = z_measure_circ(parameter, 'XX')\n",
    "    elif measure == 'ZZ':\n",
    "        circuit = z_measure_circ(parameter, 'ZZ')\n",
    "    elif measure == 'YY':\n",
    "        circuit = z_measure_circ(parameter, 'YY')\n",
    "    else:\n",
    "        raise ValueError('Input should be \"II\" or \"XX\" or \"ZZ\" or \"YY\"')\n",
    "    \n",
    "    shots = 1000\n",
    "    backend = BasicAer.get_backend('qasm_simulator')\n",
    "    job = execute(circuit, backend, shots=shots)\n",
    "    result = job.result()\n",
    "    counts = result.get_counts()\n",
    "    \n",
    "    expectation_value = ((get_from(counts, '00')+get_from(counts, '11')) - \n",
    "                         (get_from(counts,'10')+get_from(counts, '01'))) / shots\n",
    "\n",
    "    return expectation_value"
   ]
  },
  {
   "cell_type": "markdown",
   "metadata": {},
   "source": [
    "* create a function ```sum_expec``` that sums up all the expectation value inside the one of the Hamiltonian, multiply them by their coefficients, and returns the final result.\n",
    "$$\\left\\langle H \\right\\rangle = a \\cdot \\left\\langle \\psi \\right| II \\left| \\psi \\right\\rangle + b \\cdot \\left\\langle \\psi \\right| XX \\left| \\psi \\right\\rangle + c \\cdot \\left\\langle \\psi \\right| ZZ \\left| \\psi \\right\\rangle + d \\cdot \\left\\langle \\psi \\right| YY \\left| \\psi \\right\\rangle.$$"
   ]
  },
  {
   "cell_type": "code",
   "execution_count": 9,
   "metadata": {},
   "outputs": [],
   "source": [
    "def sum_expec(parameter):\n",
    "    if isinstance(parameter, np.ndarray): \n",
    "        parameter = parameter[0] \n",
    "    expec_value_II = get_from(H, 'II') * expec_value(parameter, 'II') #a*<II>\n",
    "    expec_value_XX = get_from(H, 'XX') * expec_value(parameter, 'XX') #b*<XX>\n",
    "    expec_value_ZZ = get_from(H, 'ZZ') * expec_value(parameter, 'ZZ') #c*<ZZ>\n",
    "    expec_value_YY = get_from(H, 'YY') * expec_value(parameter, 'YY') #d*<YY>\n",
    "    # summing the expectations results\n",
    "    sum_result = expec_value_II + expec_value_XX + expec_value_ZZ + expec_value_YY\n",
    "    \n",
    "    return sum_result"
   ]
  },
  {
   "cell_type": "markdown",
   "metadata": {},
   "source": [
    "### Using the optimizer:\n",
    "* the ansatz we had initialize have one degree of freedom i.e. it depends in one parameter $\\theta$ (rotation) on which she can vary, so the trials wavefunctions depend on $\\theta$; $\\left| \\psi(\\theta) \\right\\rangle$.\n",
    "\n",
    "<b> So at the first time, we are going to count on an optimizer called ```minimize``` from ```scipy.optimize```, to search the best angle $\\theta$, therefore the best wavefunction $\\left| \\psi(\\theta) \\right\\rangle$, which minimize the expectation value: $min_\\theta\\left\\langle \\psi(\\theta) \\right| H \\left| \\psi(\\theta) \\right\\rangle = lowest\\; energy\\;$."
   ]
  },
  {
   "cell_type": "code",
   "execution_count": 11,
   "metadata": {},
   "outputs": [
    {
     "name": "stdout",
     "output_type": "stream",
     "text": [
      "The exact ground state energy is: -1.5\n",
      "The estimated ground state energy using VQE algorithm is: -1.5\n",
      "\n",
      "The optimal parameter theta is : 3.1454328877068733 \n"
     ]
    }
   ],
   "source": [
    "from scipy.optimize import minimize_scalar\n",
    "parameter = 1 #initialize an arbitrary angle\n",
    "\n",
    "tol = 1e-3 #tolerance for optimization precision.\n",
    "#Inject the sum_expec result inside the minimizer function\n",
    "sum_expec_result = minimize(sum_expec, parameter, method=\"Powell\", tol=tol)\n",
    "\n",
    "print('The exact ground state energy is: {}'.format(-1.5))\n",
    "print('The estimated ground state energy using VQE algorithm is: {}'.format(sum_expec_result.fun))\n",
    "print(\"\\nThe optimal parameter theta is : {} \".format(sum_expec_result.x))"
   ]
  },
  {
   "cell_type": "markdown",
   "metadata": {},
   "source": [
    "* As can be seen, the optimizer can ﬁnd the best angle $\\theta = 3.1454328877068733 \\approx \\pi \\;$ for the global minimum energy $ E = \\left\\langle \\psi \\right| H \\left| \\psi \\right\\rangle = -1.5$ (in arbitrary units) as expected."
   ]
  },
  {
   "cell_type": "markdown",
   "metadata": {},
   "source": [
    "### Using **```for```**  loop:\n",
    "<b> Here, classical optimization is not necessary, since we have only one parameter to sweep over. Therefore it is obvious that we are going to loop over a set of values in the range $[0, 2\\pi)$ :"
   ]
  },
  {
   "cell_type": "code",
   "execution_count": 13,
   "metadata": {},
   "outputs": [],
   "source": [
    "angles = np.linspace(0.0, 2.0 * np.pi, 25) # an array of angles in [0,2pi)\n",
    "\n",
    "lowest_array=[] #  empty regular list\n",
    "for parameter in angles:\n",
    "    lowest = sum_expec(parameter)\n",
    "    lowest_array.append(lowest)\n",
    "    low = np.array(lowest_array) # transformed to a numpy array"
   ]
  },
  {
   "cell_type": "markdown",
   "metadata": {},
   "source": [
    "Some ```matplotlib``` functions to plot a nice graph :)"
   ]
  },
  {
   "cell_type": "code",
   "execution_count": 23,
   "metadata": {},
   "outputs": [
    {
     "data": {
      "image/png": "[encoded data removed]",
      "text/plain": [
       "<Figure size 1080x720 with 1 Axes>"
      ]
     },
     "metadata": {
      "needs_background": "light"
     },
     "output_type": "display_data"
    },
    {
     "name": "stdout",
     "output_type": "stream",
     "text": [
      "The intersection between the angle theta = pi and the constructed graph is the lowest energy:  -1.5\n"
     ]
    }
   ],
   "source": [
    "import matplotlib.pyplot as plt\n",
    "from matplotlib.ticker import (FormatStrFormatter, AutoMinorLocator, FuncFormatter)\n",
    "\n",
    "fig = plt.figure(figsize=(15, 10))\n",
    "ax = fig.add_subplot()\n",
    "ax.plot(angles, low, linewidth=3, color='mediumseagreen')\n",
    "\n",
    "ax.annotate('The lowest energy', xy=(3.141, -1.5), xytext=(3.141, -1.25),\n",
    "             arrowprops=dict(facecolor='black', shrink=0.05),)\n",
    "#make the minor graduation\n",
    "def minor_tick(x, pos):\n",
    "    if not x % 1.0:\n",
    "        return \"\"\n",
    "    return \"%.2f\" % x\n",
    "ax.xaxis.set_minor_locator(AutoMinorLocator()) #plot the minor graduation\n",
    "ax.xaxis.set_minor_formatter(FuncFormatter(minor_tick)) #plot the minor graduation numbers\n",
    "\n",
    "ax.tick_params(which='both', width=2) #controle both graduation for x and y axis\n",
    "ax.tick_params(which='major', length=7) #controle the major graduation; the number of grad\n",
    "ax.tick_params(which='minor', length=4, color='black') #control the minor graduation the number of grad\n",
    "ax.tick_params(labelcolor='black', labelsize=20, width=3) #controle the major graduation\n",
    "\n",
    "plt.xlabel(r'$Angles \\; \\theta ∈ [0,2\\pi)$', {'color': 'C0', 'fontsize': 18})\n",
    "plt.ylabel(r'$Expectation \\; value \\; \\left\\langle \\psi(\\theta) \\right| H \\left| \\psi(\\theta) \\right\\rangle$',\n",
    "           {'color': 'C0', 'fontsize': 18})\n",
    "plt.title(r'$min_\\theta \\left\\langle \\psi(\\theta) \\right| H \\left| \\psi(\\theta) \\right\\rangle$',\n",
    "           {'color': 'C0', 'fontsize': 18})\n",
    "plt.grid(linestyle='-.')\n",
    "plt.show()\n",
    "# Use the interpolation Numpy function, where it utilises the best angle given by the optimizer ≈𝜋, to see if\n",
    "# it give us the right ground state in Y-axis in the graph below: (f(angle) = ?)\n",
    "inter = np.interp( np.pi ,angles,low)\n",
    "print('The intersection between the angle theta = pi and the constructed graph is the lowest energy: ',inter)"
   ]
  },
  {
   "cell_type": "markdown",
   "metadata": {},
   "source": [
    "## &#10173; Final results: \n",
    "\n",
    "**Enumerating the expectation values for all angles, lead to the optimal angle $\\theta=\\pi$, therefore gives the lowest eigenstate $|\\psi(\\theta)\\rangle$ (the right ansatz), found as follow:**"
   ]
  },
  {
   "cell_type": "code",
   "execution_count": 18,
   "metadata": {},
   "outputs": [
    {
     "data": {
      "image/png": "[encoded data removed]",
      "text/plain": [
       "<Figure size 327.252x144.48 with 1 Axes>"
      ]
     },
     "execution_count": 18,
     "metadata": {},
     "output_type": "execute_result"
    }
   ],
   "source": [
    "######## Ansatz Circuit ########\n",
    "qc = QuantumCircuit(2)\n",
    "qc.h(0)\n",
    "qc.rz(np.pi,0)\n",
    "qc.cx(0,1)\n",
    "qc.x(1)\n",
    "qc.draw('mpl')"
   ]
  },
  {
   "cell_type": "code",
   "execution_count": 24,
   "metadata": {},
   "outputs": [
    {
     "data": {
      "text/latex": [
       "$\\displaystyle \n",
       "\\\\Statevector: \\; |\\psi(\\theta)\\rangle = \\begin{bmatrix}\n",
       "0 \\\\\n",
       "\\tfrac{1}{\\sqrt{2}}i \\\\\n",
       "-\\tfrac{1}{\\sqrt{2}}i \\\\\n",
       "0\n",
       "\\end{bmatrix}\n",
       "$"
      ],
      "text/plain": [
       "<IPython.core.display.Math object>"
      ]
     },
     "metadata": {},
     "output_type": "display_data"
    }
   ],
   "source": [
    "from qiskit_textbook.tools import array_to_latex\n",
    "######## Ansatz State-vector ########\n",
    "backend2 = Aer.get_backend('statevector_simulator')\n",
    "final_state = execute(qc,backend2).result().get_statevector()\n",
    "array_to_latex(final_state, pretext=r\"\\\\Statevector: \\; |\\psi(\\theta)\\rangle = \")"
   ]
  },
  {
   "cell_type": "markdown",
   "metadata": {},
   "source": [
    "$Statevector: \\; |\\psi(\\theta)\\rangle = \\begin{bmatrix}\n",
    "0 \\\\\n",
    "\\tfrac{1}{\\sqrt{2}}i \\\\\n",
    "-\\tfrac{1}{\\sqrt{2}}i \\\\\n",
    "0\n",
    "\\end{bmatrix}$"
   ]
  },
  {
   "attachments": {},
   "cell_type": "markdown",
   "metadata": {},
   "source": [
    "**The corresponding lowest energy is $\\left\\langle \\psi(\\pi)| H |\\psi(\\pi)\\right\\rangle = -1.5 \\times A$, This energy match with an antisymmetric spin configuration, with a total angular momentum $𝑚_𝑠 = 0$, hence an antiparallel alignment between our two studied $spins\\;1/2$, see below figure:**\n",
    "\n",
    "<img src=\"groundstate.png\" alt=\"drawing\" width=\"300\"/>\n",
    "\n"
   ]
  },
  {
   "cell_type": "markdown",
   "metadata": {},
   "source": [
    "I searched the lowest energy for the same Hamiltonian, using the VQE in a noisy environment. Moreover, I used another code implementation  and take the same step I toke here to get the values."
   ]
  },
  {
   "cell_type": "markdown",
   "metadata": {},
   "source": [
    "<h1 align=\"center\">\n",
    "References\n",
    "</h1>\n",
    "\n",
    "https://arxiv.org/abs/1304.3061\n",
    "\n",
    "https://github.com/DavitKhach/quantum-algorithms-tutorials/blob/master/variational_quantum_eigensolver.ipynb"
   ]
  }
 ],
 "metadata": {
  "kernelspec": {
   "display_name": "Python 3",
   "language": "python",
   "name": "python3"
  },
  "language_info": {
   "codemirror_mode": {
    "name": "ipython",
    "version": 3
   },
   "file_extension": ".py",
   "mimetype": "text/x-python",
   "name": "python",
   "nbconvert_exporter": "python",
   "pygments_lexer": "ipython3",
   "version": "3.7.8"
  }
 },
 "nbformat": 4,
 "nbformat_minor": 4
}
